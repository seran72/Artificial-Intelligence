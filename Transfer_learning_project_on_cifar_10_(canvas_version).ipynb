{
  "nbformat": 4,
  "nbformat_minor": 0,
  "metadata": {
    "accelerator": "GPU",
    "anaconda-cloud": {},
    "colab": {
      "name": "CSC180_Transfer_learning_project_on_cifar_10_(canvas_version).ipynb",
      "provenance": [],
      "collapsed_sections": []
    },
    "kernelspec": {
      "display_name": "Python 3",
      "language": "python",
      "name": "python3"
    },
    "language_info": {
      "codemirror_mode": {
        "name": "ipython",
        "version": 3
      },
      "file_extension": ".py",
      "mimetype": "text/x-python",
      "name": "python",
      "nbconvert_exporter": "python",
      "pygments_lexer": "ipython3",
      "version": "3.8.8"
    }
  },
  "cells": [
    {
      "cell_type": "markdown",
      "metadata": {
        "id": "C-BeOChlfOfY"
      },
      "source": [
        "## Mini-Project 3:  Computer Vision using GPU and Transfer Learning\n",
        "\n",
        "\n",
        "#### CSC 180 Intelligent Systems (Fall 2021)\n",
        "\n",
        "#### Dr. Haiquan Chen, California State University, Sacramento"
      ]
    },
    {
      "cell_type": "code",
      "metadata": {
        "id": "rENMVFFibA3H"
      },
      "source": [
        "# Insert your name, your id, course title, assignment id, and due date here as comment \n",
        "\n",
        "#Seran Gemechu\n",
        "#CSC 180\n",
        "\n"
      ],
      "execution_count": 97,
      "outputs": []
    },
    {
      "cell_type": "markdown",
      "metadata": {
        "id": "LlFpkRqpfOfa"
      },
      "source": [
        "\n",
        "## Helpful Functions for Tensorflow (Little Gems)\n",
        "\n",
        "The following functions will be used with TensorFlow to help preprocess the data.  They allow you to build the feature vector for a neural network. \n",
        "\n",
        "* Predictors/Inputs \n",
        "    * Fill any missing inputs with the median for that column.  Use **missing_median**.\n",
        "    * Encode textual/categorical values with **encode_text_dummy**.\n",
        "    * Encode numeric values with **encode_numeric_zscore**.\n",
        "* Output\n",
        "    * Discard rows with missing outputs.\n",
        "    * Encode textual/categorical values with **encode_text_index**.\n",
        "    * Do not encode output numeric values.\n",
        "* Produce final feature vectors (x) and expected output (y) with **to_xy**."
      ]
    },
    {
      "cell_type": "code",
      "metadata": {
        "id": "FOddo2bbfOfb"
      },
      "source": [
        "from collections.abc import Sequence\n",
        "from sklearn import preprocessing\n",
        "import matplotlib.pyplot as plt\n",
        "import numpy as np\n",
        "import pandas as pd\n",
        "import shutil\n",
        "import os\n",
        "\n",
        "\n",
        "# Encode text values to dummy variables(i.e. [1,0,0],[0,1,0],[0,0,1] for red,green,blue)\n",
        "def encode_text_dummy(df, name):\n",
        "    dummies = pd.get_dummies(df[name])\n",
        "    for x in dummies.columns:\n",
        "        dummy_name = \"{}-{}\".format(name, x)\n",
        "        df[dummy_name] = dummies[x]\n",
        "    df.drop(name, axis=1, inplace=True)\n",
        "\n",
        "\n",
        "# Encode text values to indexes(i.e. [1],[2],[3] for red,green,blue).\n",
        "def encode_text_index(df, name):\n",
        "    le = preprocessing.LabelEncoder()\n",
        "    df[name] = le.fit_transform(df[name])\n",
        "    return le.classes_\n",
        "\n",
        "\n",
        "# Encode a numeric column as zscores\n",
        "def encode_numeric_zscore(df, name, mean=None, sd=None):\n",
        "    if mean is None:\n",
        "        mean = df[name].mean()\n",
        "\n",
        "    if sd is None:\n",
        "        sd = df[name].std()\n",
        "\n",
        "    df[name] = (df[name] - mean) / sd\n",
        "\n",
        "\n",
        "# Convert all missing values in the specified column to the median\n",
        "def missing_median(df, name):\n",
        "    med = df[name].median()\n",
        "    df[name] = df[name].fillna(med)\n",
        "\n",
        "\n",
        "# Convert all missing values in the specified column to the default\n",
        "def missing_default(df, name, default_value):\n",
        "    df[name] = df[name].fillna(default_value)\n",
        "\n",
        "\n",
        "# Convert a Pandas dataframe to the x,y inputs that TensorFlow needs\n",
        "def to_xy(df, target):\n",
        "    result = []\n",
        "    for x in df.columns:\n",
        "        if x != target:\n",
        "            result.append(x)\n",
        "    # find out the type of the target column. \n",
        "    target_type = df[target].dtypes\n",
        "    target_type = target_type[0] if isinstance(target_type, Sequence) else target_type\n",
        "    # Encode to int for classification, float otherwise. TensorFlow likes 32 bits.\n",
        "    if target_type in (np.int64, np.int32):\n",
        "        # Classification\n",
        "        dummies = pd.get_dummies(df[target])\n",
        "        return df[result].values.astype(np.float32), dummies.values.astype(np.float32)\n",
        "    else:\n",
        "        # Regression\n",
        "        return df[result].values.astype(np.float32), df[target].values.astype(np.float32)\n",
        "\n",
        "# Nicely formatted time string\n",
        "def hms_string(sec_elapsed):\n",
        "    h = int(sec_elapsed / (60 * 60))\n",
        "    m = int((sec_elapsed % (60 * 60)) / 60)\n",
        "    s = sec_elapsed % 60\n",
        "    return \"{}:{:>02}:{:>05.2f}\".format(h, m, s)\n",
        "\n",
        "\n",
        "# Regression chart.\n",
        "def chart_regression(pred,y,sort=True):\n",
        "    t = pd.DataFrame({'pred' : pred, 'y' : y.flatten()})\n",
        "    if sort:\n",
        "        t.sort_values(by=['y'],inplace=True)\n",
        "    a = plt.plot(t['y'].tolist(),label='expected')\n",
        "    b = plt.plot(t['pred'].tolist(),label='prediction')\n",
        "    plt.ylabel('output')\n",
        "    plt.legend()\n",
        "    plt.show()\n",
        "\n",
        "# Remove all rows where the specified column is +/- sd standard deviations\n",
        "def remove_outliers(df, name, sd):\n",
        "    drop_rows = df.index[(np.abs(df[name] - df[name].mean()) >= (sd * df[name].std()))]\n",
        "    df.drop(drop_rows, axis=0, inplace=True)\n",
        "\n",
        "\n",
        "# Encode a column to a range between normalized_low and normalized_high.\n",
        "def encode_numeric_range(df, name, normalized_low=-1, normalized_high=1,\n",
        "                         data_low=None, data_high=None):\n",
        "    if data_low is None:\n",
        "        data_low = min(df[name])\n",
        "        data_high = max(df[name])\n",
        "\n",
        "    df[name] = ((df[name] - data_low) / (data_high - data_low)) \\\n",
        "               * (normalized_high - normalized_low) + normalized_low\n"
      ],
      "execution_count": 98,
      "outputs": []
    },
    {
      "cell_type": "markdown",
      "metadata": {
        "id": "qU8FIYWRVXM1"
      },
      "source": [
        "## Switch and Verify GPU\n",
        "\n",
        "### To enable GPU backend for your notebook. Runtime->Change runtime type->Hardware Accelerator->GPU."
      ]
    },
    {
      "cell_type": "code",
      "metadata": {
        "colab": {
          "base_uri": "https://localhost:8080/",
          "height": 35
        },
        "id": "1s9pBa09U_zJ",
        "outputId": "a6245cd5-a2c6-4d37-9515-001e70df96c7"
      },
      "source": [
        "import tensorflow as tf\n",
        "\n",
        "tf.test.gpu_device_name()"
      ],
      "execution_count": 99,
      "outputs": [
        {
          "output_type": "execute_result",
          "data": {
            "application/vnd.google.colaboratory.intrinsic+json": {
              "type": "string"
            },
            "text/plain": [
              "'/device:GPU:0'"
            ]
          },
          "metadata": {},
          "execution_count": 99
        }
      ]
    },
    {
      "cell_type": "markdown",
      "metadata": {
        "id": "SFpkSEEDbTag"
      },
      "source": [
        "### If the above code output '/device:GPU:0',  you have switched to GPU successfully and you are ready to go. \n",
        "\n"
      ]
    },
    {
      "cell_type": "markdown",
      "metadata": {
        "collapsed": true,
        "id": "Kv39g9StfOff"
      },
      "source": [
        "## Part I:   Image classification without transfer learning\n",
        "\n",
        "https://www.cs.toronto.edu/~kriz/cifar.html"
      ]
    },
    {
      "cell_type": "code",
      "metadata": {
        "id": "0495-SoMfOfg"
      },
      "source": [
        "#  Load cifar-10 data and split it to training and test\n",
        "\n",
        "\n",
        "from tensorflow.keras.datasets import cifar10\n",
        "\n",
        "from tensorflow.keras.models import Sequential\n",
        "from tensorflow.keras.layers import Dense, Dropout, Activation, Flatten\n",
        "from tensorflow.keras.layers import Conv2D, MaxPooling2D\n",
        "\n",
        "num_classes = 10\n",
        "\n",
        "# The data split between train and test sets:\n",
        "(x_train, y_train), (x_test, y_test) = cifar10.load_data()\n"
      ],
      "execution_count": 100,
      "outputs": []
    },
    {
      "cell_type": "code",
      "metadata": {
        "id": "9DWyVv_efOfj",
        "colab": {
          "base_uri": "https://localhost:8080/"
        },
        "outputId": "80e6c396-58ab-4eb7-d5b8-cccef62ab679"
      },
      "source": [
        "# print out data shape\n",
        "\n",
        "print('x_train shape:', x_train.shape)\n",
        "print('y_train shape:', y_train.shape)\n",
        "\n",
        "print('x_test shape:', x_test.shape)\n",
        "print('y_test shape:', y_test.shape)\n",
        "\n",
        "\n",
        "print(x_train.shape[0], 'train samples')\n",
        "print(x_test.shape[0], 'test samples')"
      ],
      "execution_count": 101,
      "outputs": [
        {
          "output_type": "stream",
          "name": "stdout",
          "text": [
            "x_train shape: (50000, 32, 32, 3)\n",
            "y_train shape: (50000, 1)\n",
            "x_test shape: (10000, 32, 32, 3)\n",
            "y_test shape: (10000, 1)\n",
            "50000 train samples\n",
            "10000 test samples\n"
          ]
        }
      ]
    },
    {
      "cell_type": "code",
      "metadata": {
        "id": "5_Z_IKevu2Ji",
        "colab": {
          "base_uri": "https://localhost:8080/"
        },
        "outputId": "8ba2c528-0450-4b09-9083-f4781b63f6b9"
      },
      "source": [
        "# print out a random image in x_train as numpy array\n",
        "x_train[15]"
      ],
      "execution_count": 102,
      "outputs": [
        {
          "output_type": "execute_result",
          "data": {
            "text/plain": [
              "array([[[100, 168, 231],\n",
              "        [100, 168, 229],\n",
              "        [101, 167, 230],\n",
              "        ...,\n",
              "        [ 95, 165, 231],\n",
              "        [ 94, 165, 228],\n",
              "        [ 95, 167, 229]],\n",
              "\n",
              "       [[103, 170, 230],\n",
              "        [103, 168, 228],\n",
              "        [104, 168, 226],\n",
              "        ...,\n",
              "        [ 97, 167, 229],\n",
              "        [ 97, 166, 227],\n",
              "        [ 97, 168, 229]],\n",
              "\n",
              "       [[107, 174, 233],\n",
              "        [106, 172, 230],\n",
              "        [106, 173, 229],\n",
              "        ...,\n",
              "        [100, 170, 230],\n",
              "        [100, 170, 230],\n",
              "        [101, 172, 232]],\n",
              "\n",
              "       ...,\n",
              "\n",
              "       [[165, 178, 177],\n",
              "        [159, 170, 167],\n",
              "        [167, 177, 170],\n",
              "        ...,\n",
              "        [ 75, 117, 154],\n",
              "        [ 75, 120, 157],\n",
              "        [ 72, 120, 158]],\n",
              "\n",
              "       [[158, 174, 172],\n",
              "        [173, 186, 182],\n",
              "        [182, 193, 188],\n",
              "        ...,\n",
              "        [ 76, 119, 154],\n",
              "        [ 75, 119, 153],\n",
              "        [ 77, 121, 154]],\n",
              "\n",
              "       [[161, 176, 174],\n",
              "        [162, 176, 172],\n",
              "        [160, 171, 169],\n",
              "        ...,\n",
              "        [ 98, 137, 167],\n",
              "        [129, 160, 183],\n",
              "        [162, 185, 202]]], dtype=uint8)"
            ]
          },
          "metadata": {},
          "execution_count": 102
        }
      ]
    },
    {
      "cell_type": "code",
      "metadata": {
        "id": "cbcMvRhqvWAc",
        "colab": {
          "base_uri": "https://localhost:8080/",
          "height": 285
        },
        "outputId": "6070739e-63b2-4a67-c137-fd9bf5bf66ba"
      },
      "source": [
        "# print it out as image\n",
        "\n",
        "import matplotlib.pyplot as plt\n",
        "\n",
        "\n",
        "plt.imshow(x_train[15])"
      ],
      "execution_count": 103,
      "outputs": [
        {
          "output_type": "execute_result",
          "data": {
            "text/plain": [
              "<matplotlib.image.AxesImage at 0x7fa886a92190>"
            ]
          },
          "metadata": {},
          "execution_count": 103
        },
        {
          "output_type": "display_data",
          "data": {
            "image/png": "[encoded data removed]",
            "text/plain": [
              "<Figure size 432x288 with 1 Axes>"
            ]
          },
          "metadata": {
            "needs_background": "light"
          }
        }
      ]
    },
    {
      "cell_type": "code",
      "metadata": {
        "id": "qMwUTdqp0rUJ"
      },
      "source": [
        "# Convert y_train from 2D to 1D \n",
        "\n",
        "y_train = y_train.reshape(50000)\n"
      ],
      "execution_count": 104,
      "outputs": []
    },
    {
      "cell_type": "code",
      "metadata": {
        "id": "ojvUNZgG0xVe",
        "colab": {
          "base_uri": "https://localhost:8080/"
        },
        "outputId": "b6084c50-de00-4352-cbcd-1b31bbbe0e3c"
      },
      "source": [
        "y_train.shape\n",
        "\n",
        "# expected output: (50000,)"
      ],
      "execution_count": 105,
      "outputs": [
        {
          "output_type": "execute_result",
          "data": {
            "text/plain": [
              "(50000,)"
            ]
          },
          "metadata": {},
          "execution_count": 105
        }
      ]
    },
    {
      "cell_type": "code",
      "metadata": {
        "id": "HcrolrznfOf2"
      },
      "source": [
        "# Convert y_test from 2D to 1D \n",
        "\n",
        "y_test = y_test.reshape(10000)\n"
      ],
      "execution_count": 106,
      "outputs": []
    },
    {
      "cell_type": "code",
      "metadata": {
        "id": "iT3IYTNqfOf6",
        "colab": {
          "base_uri": "https://localhost:8080/"
        },
        "outputId": "d3aec921-f7ad-4a22-a609-a5821b9d8162"
      },
      "source": [
        "y_test.shape\n",
        "\n",
        "# expected output: (10000,)"
      ],
      "execution_count": 107,
      "outputs": [
        {
          "output_type": "execute_result",
          "data": {
            "text/plain": [
              "(10000,)"
            ]
          },
          "metadata": {},
          "execution_count": 107
        }
      ]
    },
    {
      "cell_type": "code",
      "metadata": {
        "id": "5-lWtPlHfOf9"
      },
      "source": [
        "# Convert class vectors to one hot format\n",
        "\n",
        "y_train = tf.keras.utils.to_categorical(y_train, num_classes)\n",
        "y_test = tf.keras.utils.to_categorical(y_test, num_classes)"
      ],
      "execution_count": 108,
      "outputs": []
    },
    {
      "cell_type": "code",
      "metadata": {
        "id": "DFzHf8QefOgC"
      },
      "source": [
        "# Convert data from int to float and normalize it\n",
        "\n",
        "\n",
        "x_train = x_train.astype('float32')\n",
        "x_test = x_test.astype('float32')\n",
        "\n",
        "x_train /= 255\n",
        "x_test /= 255"
      ],
      "execution_count": 109,
      "outputs": []
    },
    {
      "cell_type": "markdown",
      "metadata": {
        "id": "QXXjBVW1lDt1"
      },
      "source": [
        "###  Write your code in the cell below to create a CNN model which contains the following types of operations (layers):   \n",
        "\n",
        "- Conv2D\n",
        "- Activation\n",
        "- MaxPooling2D\n",
        "- Flatten\n",
        "- Dropout\n",
        "- Dense\n",
        "\n",
        "### (optional) You are also encouraged to create multiple models with different activiation functions, different numbers of neurons and layers for performance comparison."
      ]
    },
    {
      "cell_type": "code",
      "metadata": {
        "id": "grVEwQfQfOgE"
      },
      "source": [
        "\n",
        "from tensorflow.keras.optimizers import SGD\n",
        "from tensorflow.keras.optimizers import RMSprop\n",
        "from tensorflow.keras.layers import BatchNormalization\n",
        "\n",
        "\n",
        "\n",
        "model = Sequential()\n",
        "\n",
        "\n",
        "\n",
        "model.add(Conv2D(32, (3, 3), activation='relu', input_shape=(32, 32, 3)))\n",
        "model.add(Conv2D(32, (3, 3)))\n",
        "# Batch normalization layer added here\n",
        "model.add(BatchNormalization())\n",
        "model.add(Activation('relu'))\n",
        "model.add(MaxPooling2D(pool_size=(2, 2)))\n",
        "model.add(Dropout(0.25))\n",
        "\n",
        "model.add(Flatten())\n",
        "model.add(Dense(256))\n",
        "# Batch normalization layer added here\n",
        "model.add(BatchNormalization())\n",
        "model.add(Activation('relu'))\n",
        "model.add(Dropout(0.5))\n",
        "model.add(Dense(10, activation='softmax'))\n"
      ],
      "execution_count": 110,
      "outputs": []
    },
    {
      "cell_type": "code",
      "metadata": {
        "id": "4OWHUrkrErUp"
      },
      "source": [
        "#model.fit(x_train, y_train, batch_size=32, epochs=15, verbose=2, validation_split=0.2)\n"
      ],
      "execution_count": 111,
      "outputs": []
    },
    {
      "cell_type": "code",
      "metadata": {
        "id": "FekC4kgffOgG",
        "colab": {
          "base_uri": "https://localhost:8080/"
        },
        "outputId": "7031c79e-b9db-4756-bb99-f474d1bc9d28"
      },
      "source": [
        "# Print model summary\n",
        "\n",
        "model.summary()"
      ],
      "execution_count": 112,
      "outputs": [
        {
          "output_type": "stream",
          "name": "stdout",
          "text": [
            "Model: \"sequential_9\"\n",
            "_________________________________________________________________\n",
            "Layer (type)                 Output Shape              Param #   \n",
            "=================================================================\n",
            "conv2d_18 (Conv2D)           (None, 30, 30, 32)        896       \n",
            "_________________________________________________________________\n",
            "conv2d_19 (Conv2D)           (None, 28, 28, 32)        9248      \n",
            "_________________________________________________________________\n",
            "batch_normalization_8 (Batch (None, 28, 28, 32)        128       \n",
            "_________________________________________________________________\n",
            "activation_8 (Activation)    (None, 28, 28, 32)        0         \n",
            "_________________________________________________________________\n",
            "max_pooling2d_10 (MaxPooling (None, 14, 14, 32)        0         \n",
            "_________________________________________________________________\n",
            "dropout_10 (Dropout)         (None, 14, 14, 32)        0         \n",
            "_________________________________________________________________\n",
            "flatten_8 (Flatten)          (None, 6272)              0         \n",
            "_________________________________________________________________\n",
            "dense_16 (Dense)             (None, 256)               1605888   \n",
            "_________________________________________________________________\n",
            "batch_normalization_9 (Batch (None, 256)               1024      \n",
            "_________________________________________________________________\n",
            "activation_9 (Activation)    (None, 256)               0         \n",
            "_________________________________________________________________\n",
            "dropout_11 (Dropout)         (None, 256)               0         \n",
            "_________________________________________________________________\n",
            "dense_17 (Dense)             (None, 10)                2570      \n",
            "=================================================================\n",
            "Total params: 1,619,754\n",
            "Trainable params: 1,619,178\n",
            "Non-trainable params: 576\n",
            "_________________________________________________________________\n"
          ]
        }
      ]
    },
    {
      "cell_type": "markdown",
      "metadata": {
        "id": "uVNwHr_AmKJi"
      },
      "source": [
        "### Write your code in the cell below for compile, earlystopping and fit. Notice that you should use earlystopping"
      ]
    },
    {
      "cell_type": "code",
      "metadata": {
        "id": "QUxCqaaZfOgI"
      },
      "source": [
        "from tensorflow.keras.optimizers import Adam\n",
        "from tensorflow.keras.callbacks import EarlyStopping, ModelCheckpoint\n",
        "\n",
        "adam = Adam(learning_rate=0.0006, beta_1=0.9, beta_2=0.999, decay=0.0)\n",
        "\n",
        "model.compile(loss='categorical_crossentropy', metrics=['accuracy'], optimizer=adam)\n",
        "es = EarlyStopping(monitor='val_loss', mode='min', verbose=1, patience=3)\n"
      ],
      "execution_count": 113,
      "outputs": []
    },
    {
      "cell_type": "code",
      "metadata": {
        "id": "6F6gUa5u0F5V"
      },
      "source": [
        "from tensorflow.keras.preprocessing.image import ImageDataGenerator\n",
        "\n",
        "train_datagen = ImageDataGenerator(\n",
        "        width_shift_range=0.1,  # randomly shift images horizontally (fraction of total width)\n",
        "        height_shift_range=0.1,  # randomly shift images vertically (fraction of total height)\n",
        "        horizontal_flip=True)   # flip images horizontally\n",
        "\n",
        "validation_datagen = ImageDataGenerator()\n",
        "\n",
        "train_generator = train_datagen.flow(x_train[:40000], y_train[:40000], batch_size=32)\n",
        "validation_generator = validation_datagen.flow(x_train[40000:], y_train[40000:], batch_size=32)"
      ],
      "execution_count": 114,
      "outputs": []
    },
    {
      "cell_type": "code",
      "metadata": {
        "colab": {
          "base_uri": "https://localhost:8080/"
        },
        "id": "kCNk0YIRRzHA",
        "outputId": "da9bb2d2-dd99-4ef0-cb00-60251d78c768"
      },
      "source": [
        "\n",
        "# Model training\n",
        "history = model.fit(train_generator, validation_data=validation_generator,validation_steps=len(x_train[40000:]) / 32, steps_per_epoch=len(x_train[:40000]) / 32,epochs=15,verbose=2)"
      ],
      "execution_count": 115,
      "outputs": [
        {
          "output_type": "stream",
          "name": "stdout",
          "text": [
            "Epoch 1/15\n",
            "1250/1250 - 30s - loss: 1.6659 - accuracy: 0.4132 - val_loss: 1.6222 - val_accuracy: 0.4518\n",
            "Epoch 2/15\n",
            "1250/1250 - 28s - loss: 1.3186 - accuracy: 0.5300 - val_loss: 1.0980 - val_accuracy: 0.6133\n",
            "Epoch 3/15\n",
            "1250/1250 - 28s - loss: 1.2166 - accuracy: 0.5640 - val_loss: 1.0217 - val_accuracy: 0.6433\n",
            "Epoch 4/15\n",
            "1250/1250 - 27s - loss: 1.1618 - accuracy: 0.5871 - val_loss: 1.0716 - val_accuracy: 0.6279\n",
            "Epoch 5/15\n",
            "1250/1250 - 27s - loss: 1.1113 - accuracy: 0.6052 - val_loss: 1.0540 - val_accuracy: 0.6344\n",
            "Epoch 6/15\n",
            "1250/1250 - 28s - loss: 1.0861 - accuracy: 0.6168 - val_loss: 0.8999 - val_accuracy: 0.6854\n",
            "Epoch 7/15\n",
            "1250/1250 - 28s - loss: 1.0626 - accuracy: 0.6284 - val_loss: 0.8910 - val_accuracy: 0.6919\n",
            "Epoch 8/15\n",
            "1250/1250 - 28s - loss: 1.0341 - accuracy: 0.6364 - val_loss: 0.8800 - val_accuracy: 0.6860\n",
            "Epoch 9/15\n",
            "1250/1250 - 28s - loss: 1.0168 - accuracy: 0.6403 - val_loss: 0.9119 - val_accuracy: 0.6792\n",
            "Epoch 10/15\n",
            "1250/1250 - 28s - loss: 1.0036 - accuracy: 0.6471 - val_loss: 1.0957 - val_accuracy: 0.6399\n",
            "Epoch 11/15\n",
            "1250/1250 - 28s - loss: 0.9889 - accuracy: 0.6521 - val_loss: 0.8061 - val_accuracy: 0.7171\n",
            "Epoch 12/15\n",
            "1250/1250 - 28s - loss: 0.9741 - accuracy: 0.6568 - val_loss: 0.8069 - val_accuracy: 0.7182\n",
            "Epoch 13/15\n",
            "1250/1250 - 28s - loss: 0.9573 - accuracy: 0.6664 - val_loss: 0.8106 - val_accuracy: 0.7169\n",
            "Epoch 14/15\n",
            "1250/1250 - 28s - loss: 0.9475 - accuracy: 0.6683 - val_loss: 0.8487 - val_accuracy: 0.7039\n",
            "Epoch 15/15\n",
            "1250/1250 - 28s - loss: 0.9405 - accuracy: 0.6712 - val_loss: 0.9091 - val_accuracy: 0.6819\n"
          ]
        }
      ]
    },
    {
      "cell_type": "code",
      "metadata": {
        "id": "61xcRWb72xJv"
      },
      "source": [
        "def plotLosses(history):  \n",
        "    plt.plot(history.history['loss'])\n",
        "    plt.plot(history.history['val_loss'])\n",
        "    plt.title('model loss')\n",
        "    plt.ylabel('loss')\n",
        "    plt.xlabel('epoch')\n",
        "    plt.legend(['train', 'validation'], loc='upper left')\n",
        "    plt.show()"
      ],
      "execution_count": 117,
      "outputs": []
    },
    {
      "cell_type": "code",
      "metadata": {
        "colab": {
          "base_uri": "https://localhost:8080/",
          "height": 295
        },
        "id": "VXRy1k-ovUJ7",
        "outputId": "290cd038-7c69-4041-b347-adafc45025cf"
      },
      "source": [
        "plotLosses(history)\n"
      ],
      "execution_count": 118,
      "outputs": [
        {
          "output_type": "display_data",
          "data": {
            "image/png": "[encoded data removed]",
            "text/plain": [
              "<Figure size 432x288 with 1 Axes>"
            ]
          },
          "metadata": {
            "needs_background": "light"
          }
        }
      ]
    },
    {
      "cell_type": "code",
      "metadata": {
        "id": "ALkwLj-m3UyZ"
      },
      "source": [
        "score = model.evaluate(x_test, y_test, batch_size=128, verbose=0)\n"
      ],
      "execution_count": 120,
      "outputs": []
    },
    {
      "cell_type": "code",
      "metadata": {
        "colab": {
          "base_uri": "https://localhost:8080/"
        },
        "id": "s8S9g8rD3WcB",
        "outputId": "8f80f254-e325-4abf-d606-1160a5c5781d"
      },
      "source": [
        "print(model.metrics_names)\n",
        "print(score)"
      ],
      "execution_count": 121,
      "outputs": [
        {
          "output_type": "stream",
          "name": "stdout",
          "text": [
            "['loss', 'accuracy']\n",
            "[0.9184441566467285, 0.6797999739646912]\n"
          ]
        }
      ]
    },
    {
      "cell_type": "markdown",
      "metadata": {
        "id": "Xigd26XOoU-F"
      },
      "source": [
        "### Write your code in the cell below to print out the Precision, Recall,  F1 score, and classification_*report*\n",
        "\n",
        "### Include your findings in the project report. "
      ]
    },
    {
      "cell_type": "code",
      "metadata": {
        "id": "2_92T0bsfOgQ",
        "colab": {
          "base_uri": "https://localhost:8080/"
        },
        "outputId": "ab515efb-ea79-4ebc-bf2c-83f89c203534"
      },
      "source": [
        "from sklearn import metrics\n",
        "from sklearn.metrics import precision_recall_fscore_support as score\n",
        "\n",
        "score_cnn = model.evaluate(x_test, y_test, verbose=0)\n",
        "score_cnn"
      ],
      "execution_count": 132,
      "outputs": [
        {
          "output_type": "execute_result",
          "data": {
            "text/plain": [
              "[0.9184444546699524, 0.6797999739646912]"
            ]
          },
          "metadata": {},
          "execution_count": 132
        }
      ]
    },
    {
      "cell_type": "code",
      "metadata": {
        "colab": {
          "base_uri": "https://localhost:8080/",
          "height": 207
        },
        "id": "3h0aBlx46UCH",
        "outputId": "e30abd14-3c38-4f77-ee2f-50f3925e6d4d"
      },
      "source": [
        "pred_cnn_a = model.predict(x_test)\n",
        "pred_cnn_a = np.argmax(pred_cnn_a,axis=1)\n",
        "pred_cnn_a"
      ],
      "execution_count": 133,
      "outputs": [
        {
          "output_type": "error",
          "ename": "NameError",
          "evalue": "ignored",
          "traceback": [
            "\u001b[0;31m---------------------------------------------------------------------------\u001b[0m",
            "\u001b[0;31mNameError\u001b[0m                                 Traceback (most recent call last)",
            "\u001b[0;32m<ipython-input-133-9e4b23752fb8>\u001b[0m in \u001b[0;36m<module>\u001b[0;34m()\u001b[0m\n\u001b[0;32m----> 1\u001b[0;31m \u001b[0mpred_cnn_a\u001b[0m \u001b[0;34m=\u001b[0m \u001b[0mcnn_a\u001b[0m\u001b[0;34m.\u001b[0m\u001b[0mpredict\u001b[0m\u001b[0;34m(\u001b[0m\u001b[0mx_test\u001b[0m\u001b[0;34m)\u001b[0m\u001b[0;34m\u001b[0m\u001b[0;34m\u001b[0m\u001b[0m\n\u001b[0m\u001b[1;32m      2\u001b[0m \u001b[0mpred_cnn_a\u001b[0m \u001b[0;34m=\u001b[0m \u001b[0mnp\u001b[0m\u001b[0;34m.\u001b[0m\u001b[0margmax\u001b[0m\u001b[0;34m(\u001b[0m\u001b[0mpred_cnn_a\u001b[0m\u001b[0;34m,\u001b[0m\u001b[0maxis\u001b[0m\u001b[0;34m=\u001b[0m\u001b[0;36m1\u001b[0m\u001b[0;34m)\u001b[0m\u001b[0;34m\u001b[0m\u001b[0;34m\u001b[0m\u001b[0m\n\u001b[1;32m      3\u001b[0m \u001b[0mpred_cnn_a\u001b[0m\u001b[0;34m\u001b[0m\u001b[0;34m\u001b[0m\u001b[0m\n",
            "\u001b[0;31mNameError\u001b[0m: name 'cnn_a' is not defined"
          ]
        }
      ]
    },
    {
      "cell_type": "markdown",
      "metadata": {
        "id": "103RRPUvtOie"
      },
      "source": [
        "### Write your code in the cell below to show 3-5 images in the test set as well as their true labels and their labels predicted by your model.\n",
        "\n",
        "### Include your findings in the project report."
      ]
    },
    {
      "cell_type": "code",
      "metadata": {
        "id": "fFryw76VtOie"
      },
      "source": [
        "\n",
        "\n",
        "\n",
        "\n",
        "\n",
        "\n",
        "\n"
      ],
      "execution_count": null,
      "outputs": []
    },
    {
      "cell_type": "markdown",
      "metadata": {
        "id": "MgBnw9dRfOgS"
      },
      "source": [
        "\n",
        "\n",
        "## Part II:   CNN model with Transfer Learning"
      ]
    },
    {
      "cell_type": "code",
      "metadata": {
        "id": "H9rvtqrsfOgT"
      },
      "source": [
        "# We load data again.   The data split between train and test sets:\n",
        "\n",
        "(x_train, y_train), (x_test, y_test) = cifar10.load_data()\n",
        "\n",
        "\n",
        "\n",
        "print('x_train shape:', x_train.shape)\n",
        "print('y_train shape:', y_train.shape)\n",
        "\n",
        "print('x_test shape:', x_test.shape)\n",
        "print('y_test shape:', y_test.shape)\n",
        "\n",
        "\n",
        "print(x_train.shape[0], 'train samples')\n",
        "print(x_test.shape[0], 'test samples')"
      ],
      "execution_count": null,
      "outputs": []
    },
    {
      "cell_type": "markdown",
      "metadata": {
        "id": "UGSxqVVypDiX"
      },
      "source": [
        "### Here we would like to use one pre-trained model called VGG16.   For more details on VGG16, please go to https://neurohive.io/en/popular-networks/vgg16/\n",
        "\n",
        "\n",
        "### VGG16 supports down to 48x48 images as an input. However, the resolution of our images is too low, which is (32, 32) so we need to increase the resolution.   This is called upsampling. \n",
        "\n",
        "\n",
        "\n",
        "### Find a way to do upsampling for each image to increase its resolution from 32x32 to 64x64. One option is to use the function resize(), which is provided by scikit-image library (https://scikit-image.org/)\n",
        "\n",
        "\n",
        "### Hints: \n",
        "\n",
        "#### (1) If you use resize() in scikit-image, that function also normalizes the input image so you may not want to normalize twice.\n",
        "\n",
        "#### Learn from the examples here:  https://scikit-image.org/docs/stable/auto_examples/transform/plot_rescale.html\n",
        "\n",
        "#### (2) Apply upsampling to x_train and x_test seperately. "
      ]
    },
    {
      "cell_type": "code",
      "metadata": {
        "id": "XWwBKsh-fOgX"
      },
      "source": [
        "import skimage.transform\n",
        "\n",
        "new_x_train = []\n",
        "\n",
        "\n",
        "  \n",
        "    \n",
        "    \n",
        "    \n",
        "    \n",
        "\n",
        "# this process may take about a few minutes ...."
      ],
      "execution_count": null,
      "outputs": []
    },
    {
      "cell_type": "code",
      "metadata": {
        "id": "0s0-oaKDfOgf"
      },
      "source": [
        "new_x_test = []\n",
        "\n",
        "\n",
        "\n",
        "\n",
        "\n",
        "\n",
        "\n",
        "\n",
        "# this process may take about a few minutes ...."
      ],
      "execution_count": null,
      "outputs": []
    },
    {
      "cell_type": "markdown",
      "metadata": {
        "id": "pPjFo2oyqlGO"
      },
      "source": [
        "### Write your code in the cell below to do the following:\n",
        "\n",
        "- First convert y_train and y_test from 2D to 1D by using reshape() function \n",
        "- Next apply one-hot encoding to y_train and y_test by using tf.keras.utils.to_categorical() function"
      ]
    },
    {
      "cell_type": "code",
      "metadata": {
        "id": "fQuVaf2pkRdr"
      },
      "source": [
        "\n",
        "y_train = y_train.reshape(y_train.shape[0], 1, y_train.shape[1], 1)\n",
        "y_test = y_test.reshape(y_test.shape[0], 1, y_test.shape[1], 1)\n",
        "\n",
        "y_train = y_train.reshape(50000)\n",
        "y_test = y_test.reshape(10000)\n",
        "\n"
      ],
      "execution_count": null,
      "outputs": []
    },
    {
      "cell_type": "code",
      "metadata": {
        "id": "aTCnBF_vdNTL"
      },
      "source": [
        "from tensorflow.keras.utils import to_categorical\n",
        "\n",
        "(X_train, y_train), (X_test, y_test) = cifar10.load_data()\n",
        "y_train = to_categorical(y_train, num_classes=10)\n",
        "y_test = to_categorical(y_test, num_classes=10)"
      ],
      "execution_count": null,
      "outputs": []
    },
    {
      "cell_type": "code",
      "metadata": {
        "id": "w_pLuCNjqvbf"
      },
      "source": [
        "# double check shape\n",
        "\n",
        "print(y_train.shape)\n",
        "print(y_test.shape)\n",
        "\n",
        "\n",
        "# expected output:  (50000, 10)\n",
        "# expected output:  (10000, 10)"
      ],
      "execution_count": null,
      "outputs": []
    },
    {
      "cell_type": "markdown",
      "metadata": {
        "id": "x-bzRNdjfOgy"
      },
      "source": [
        "###  Load the pre-trained VGG16 model.  Write your code in the cell below to add each layer in VGG16 (excluding the top layers) to your new model.  "
      ]
    },
    {
      "cell_type": "code",
      "metadata": {
        "id": "4HLwE00VfOgz"
      },
      "source": [
        "from tensorflow.keras.applications.vgg16 import VGG16\n",
        "\n",
        "vgg_model = VGG16(weights='imagenet', include_top=False, input_shape=(64, 64, 3))   #  first hidden layer\n",
        "\n",
        "\n",
        "model = Sequential()\n",
        "\n",
        "  \n",
        "# write your code here\n",
        "\n",
        "\n",
        "model.add(Conv2D(16, (3, 3), activation='relu', strides=(1, 1), padding='same', input_shape=(64, 64, 3)))\n",
        "model.add(Conv2D(32, (3, 3), activation='relu', strides=(1, 1), padding='same'))\n",
        "model.add(Conv2D(64, (3, 3), activation='relu', strides=(1, 1), padding='same'))\n",
        "model.add(MaxPooling2D((2, 2)))\n",
        "\n",
        "\n",
        "# print out the model summary\n",
        "model.summary()\n"
      ],
      "execution_count": null,
      "outputs": []
    },
    {
      "cell_type": "markdown",
      "metadata": {
        "id": "4ki8D32hrl3E"
      },
      "source": [
        "### Write your code in the cell below to freeze the weights in each layer in the new model"
      ]
    },
    {
      "cell_type": "code",
      "metadata": {
        "id": "X_oqboGwfOg1"
      },
      "source": [
        "\n",
        "model.add(Conv2D(16, (3, 3), activation='relu', strides=(1, 1), \n",
        "    padding='same'))\n",
        "model.add(Conv2D(32, (3, 3), activation='relu', strides=(1, 1), \n",
        "    padding='same'))\n",
        "model.add(Conv2D(64, (3, 3), activation='relu', strides=(1, 1), \n",
        "    padding='same'))\n",
        "model.add(MaxPooling2D((2, 2)))\n"
      ],
      "execution_count": null,
      "outputs": []
    },
    {
      "cell_type": "markdown",
      "metadata": {
        "id": "YArrSsS4rt_t"
      },
      "source": [
        "###  Write your code in the cell below to add some \"Dense\" layers as top layers.\n",
        "\n",
        "- Donot forget the output layer\n",
        "- Choose the right activation fucntion for the output layer"
      ]
    },
    {
      "cell_type": "code",
      "metadata": {
        "id": "Fphbz0FhfOg3"
      },
      "source": [
        "model.add(Flatten())\n",
        "\n",
        "\n",
        "# Add some \"Dense\" layers here, including output layer\n",
        "\n",
        "\n",
        "model.add(Dense(256, activation='relu'))\n",
        "model.add(Dropout(0.5))\n",
        "model.add(Dense(64, activation='relu'))\n",
        "model.add(Dense(64, activation='relu'))\n",
        "model.add(Dense(10, activation='softmax'))\n",
        "\n",
        "\n",
        "\n",
        "\n",
        "\n"
      ],
      "execution_count": null,
      "outputs": []
    },
    {
      "cell_type": "markdown",
      "metadata": {
        "id": "sDOG92fcr1m8"
      },
      "source": [
        "###  Write your code below for compile and fit. \n",
        "\n",
        "### Train your new model. \n",
        "\n",
        "### Notice that you should use earlystopping."
      ]
    },
    {
      "cell_type": "code",
      "metadata": {
        "id": "xWrWTc2JfOg6",
        "scrolled": false
      },
      "source": [
        "from tensorflow.keras.optimizers import Adam\n",
        "from tensorflow.keras.callbacks import EarlyStopping, ModelCheckpoint\n",
        "\n",
        "\n",
        "adam = Adam(lr=0.0006, beta_1=0.9, beta_2=0.999, decay=0.0)\n",
        "\n",
        "model.compile(loss='categorical_crossentropy', \n",
        "     optimizer='adam',\n",
        "     metrics=['acc'])\n",
        "\n",
        "es = EarlyStopping(monitor='val_loss', mode='min', verbose=2, patience=3)\n",
        "\n",
        "\n",
        "# since we use GPU, the training time for each epoch for the transferred model is about 60 seconds.  \n",
        "# Let it run for a few epochs. "
      ],
      "execution_count": null,
      "outputs": []
    },
    {
      "cell_type": "code",
      "metadata": {
        "id": "ldYxoS6HlpNS"
      },
      "source": [
        "\n",
        "# Model training\n",
        "model.fit(x_train, y_train, batch_size=32, callbacks=[es], epochs=10, verbose=2, validation_data=(x_test, y_test))"
      ],
      "execution_count": null,
      "outputs": []
    },
    {
      "cell_type": "markdown",
      "metadata": {
        "id": "ps2CZ8Xwrz_a"
      },
      "source": [
        "### Write your code below to print out the Precision, Recall, F1 score, and classification_report\n",
        "\n",
        "### Include your findings in the project report."
      ]
    },
    {
      "cell_type": "code",
      "metadata": {
        "id": "rMRuLfS3fOg8",
        "scrolled": true
      },
      "source": [
        "from sklearn import metrics\n",
        "\n",
        "\n",
        "\n",
        "\n",
        "\n",
        "\n",
        "\n",
        "\n",
        "# Model evaluation\n",
        "plt.title('Accuracy Score')\n",
        "plt.plot(history.history['acc'])\n",
        "plt.plot(history.history['val_acc'])\n",
        "plt.show()\n",
        "\n",
        "plt.title('Loss Values')\n",
        "plt.plot(history.history['loss'])\n",
        "plt.plot(history.history['val_loss'])\n",
        "plt.show()\n",
        "\n",
        "\n",
        "# Predicting test data\n",
        "predictions = model.predict(X_test)\n",
        "predictions = one_hot_encoder.inverse_transform(predictions)\n",
        "\n",
        "y_test = one_hot_encoder.inverse_transform(y_test)\n",
        "\n",
        "\n",
        "# Creating confusion matrix\n",
        "cm = confusion_matrix(y_test, predictions)\n",
        "\n",
        "plt.figure(figsize=(9,9))\n",
        "sns.heatmap(cm, cbar=False, xticklabels=labels, yticklabels=labels, fmt='d', annot=True, cmap=plt.cm.Blues)\n",
        "plt.xlabel('Predicted')\n",
        "plt.ylabel('Actual')\n",
        "plt.show()\n",
        "\n",
        "\n",
        "\n",
        "\n"
      ],
      "execution_count": null,
      "outputs": []
    },
    {
      "cell_type": "markdown",
      "metadata": {
        "id": "PkatwrTod_ii"
      },
      "source": [
        "### Write your code in the cell below to show 3-5 images in the test set as well as their true labels and their labels predicted by your model with transfer learning. \n",
        "\n",
        "### Include your findings in the project report."
      ]
    },
    {
      "cell_type": "code",
      "metadata": {
        "id": "PoRepUWbd_ii"
      },
      "source": [
        "\n",
        "\n",
        "\n",
        "# Displaying test data with its actual and predicted label\n",
        "X_test = X_test.reshape(X_test.shape[0], X_test.shape[1], X_test.shape[2])\n",
        "\n",
        "y_test = y_test.astype(int)\n",
        "predictions = predictions.astype(int)\n",
        "\n",
        "fig, axes = plt.subplots(ncols=7, nrows=3, sharex=False,\n",
        "    sharey=True, figsize=(17, 8))\n",
        "index = 0\n",
        "for i in range(3):\n",
        "    for j in range(7):\n",
        "        axes[i,j].set_title('actual:' + labels[y_test[index][0]] + '\\n' \n",
        "                            + 'predicted:' + labels[predictions[index][0]])\n",
        "        axes[i,j].imshow(X_test[index], cmap='gray')\n",
        "        axes[i,j].get_xaxis().set_visible(False)\n",
        "        axes[i,j].get_yaxis().set_visible(False)\n",
        "        index += 1\n",
        "plt.show()\n",
        "\n",
        "\n",
        "\n",
        "\n",
        "\n"
      ],
      "execution_count": null,
      "outputs": []
    }
  ]
}